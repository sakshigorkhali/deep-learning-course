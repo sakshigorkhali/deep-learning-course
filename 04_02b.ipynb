{
  "cells": [
    {
      "cell_type": "markdown",
      "id": "4762486a",
      "metadata": {
        "id": "4762486a"
      },
      "source": [
        "<div class=\"alert alert-success\"><h1>Deep Learning with Python using Keras</h1></div>"
      ]
    },
    {
      "cell_type": "markdown",
      "id": "11963cc7",
      "metadata": {
        "id": "11963cc7"
      },
      "source": [
        "Deep learning has revolutionized the field of machine learning, enabling significant advancements in areas such as computer vision, natural language processing, and speech recognition. In this tutorial, we'll embark on our deep learning journey by learning how to design and build a deep learning model using Keras, a user-friendly and high-level neural networks API, written in Python and capable of running on top of TensorFlow. Keras allows for easy and fast prototyping of deep learning models.\n",
        "\n",
        "## Learning Objectives\n",
        "By the end of this tutorial, you will:\n",
        "+ Understand the basics of Keras.\n",
        "+ Know how to load and preprocess data.\n",
        "+ Know how to define a deep learning model in Keras.\n",
        "+ Understand how to compile a Keras model.\n",
        "+ Know how to train and save a model.\n",
        "\n",
        "## Prerequisites\n",
        "Before we begin, ensure you have:\n",
        "\n",
        "+ Basic knowledge of Python programming (variables, functions, classes).\n",
        "+ Familiarity with fundamental machine learning concepts (datasets, training/testing, overfitting).\n",
        "+ A Python (version 3.x) environment with the `tensorflow`, `keras`, `numpy`, and `matplotlib` packages installed."
      ]
    },
    {
      "cell_type": "markdown",
      "id": "2887bb87",
      "metadata": {
        "id": "2887bb87"
      },
      "source": [
        "<div class=\"alert alert-success\"><h2>1. Import the Libraries</h2></div>"
      ]
    },
    {
      "cell_type": "markdown",
      "id": "7c96c17b",
      "metadata": {
        "id": "7c96c17b"
      },
      "source": [
        "To start, we'll import the necessary libraries that we'll use throughout this tutorial."
      ]
    },
    {
      "cell_type": "code",
      "execution_count": 1,
      "id": "b1c664ab",
      "metadata": {
        "id": "b1c664ab"
      },
      "outputs": [],
      "source": [
        "import numpy as np\n",
        "from tensorflow import keras\n",
        "from tensorflow.keras import layers"
      ]
    },
    {
      "cell_type": "markdown",
      "id": "eff3ec92",
      "metadata": {
        "id": "eff3ec92"
      },
      "source": [
        "The libraries we imported are:\n",
        "+ **numpy:** A fundamental package for scientific computing in Python, used for handling arrays and mathematical functions.\n",
        "+ **tensorflow:** An open-source platform for machine learning developed by Google.\n",
        "+ **keras:** A high-level API for building and training deep learning models, integrated within TensorFlow.\n",
        "+ **layers:** A module in Keras containing various types of neural network layers.\n",
        "\n",
        "To ensure reproducibility of my code, so you obtain the same results as my example, I will set a random initialization seed using the `keras.utils.set_random_seed()` function. This will make the weights and biases initialized during the training process deterministic, ensuring consistent results across different runs. However, in practice, setting a seed is not typically necessary."
      ]
    },
    {
      "cell_type": "code",
      "execution_count": 2,
      "id": "c8c6b3c3",
      "metadata": {
        "id": "c8c6b3c3"
      },
      "outputs": [],
      "source": [
        "keras.utils.set_random_seed(1234)"
      ]
    },
    {
      "cell_type": "markdown",
      "id": "e685885f",
      "metadata": {
        "id": "e685885f"
      },
      "source": [
        "<div class=\"alert alert-success\"><h2>2. Load the Data</h2></div>"
      ]
    },
    {
      "cell_type": "markdown",
      "id": "ea22993f",
      "metadata": {
        "id": "ea22993f"
      },
      "source": [
        "For this tutorial, we'll use the **MNIST dataset**, a classic dataset in the machine learning community. It consists of 70,000 grayscale images of handwritten digits ranging from 0 to 9. Each image is 28x28 pixels, and the dataset is divided into 60,000 training images and 10,000 testing images. Our goal will be to develop a model that learns to correctly identify a handritten digit given the image.\n",
        "\n",
        "Keras provides easy access to the MNIST dataset via its datasets module."
      ]
    },
    {
      "cell_type": "code",
      "execution_count": 3,
      "id": "b53e3b3f",
      "metadata": {
        "scrolled": true,
        "id": "b53e3b3f",
        "outputId": "7b49cba0-102a-4cb5-b0ab-5fd8fe2f6b8d",
        "colab": {
          "base_uri": "https://localhost:8080/"
        }
      },
      "outputs": [
        {
          "output_type": "stream",
          "name": "stdout",
          "text": [
            "Downloading data from https://storage.googleapis.com/tensorflow/tf-keras-datasets/mnist.npz\n",
            "\u001b[1m11490434/11490434\u001b[0m \u001b[32m━━━━━━━━━━━━━━━━━━━━\u001b[0m\u001b[37m\u001b[0m \u001b[1m0s\u001b[0m 0us/step\n"
          ]
        }
      ],
      "source": [
        "(train_images, train_labels), (test_images, test_labels) = keras.datasets.mnist.load_data()"
      ]
    },
    {
      "cell_type": "markdown",
      "id": "0e348b40",
      "metadata": {
        "id": "0e348b40"
      },
      "source": [
        "The `keras.datasets.minist.load_data()` function returns four datasets:\n",
        "+ **train_images:** A numpy array of training images.\n",
        "+ **train_labels:** A numpy array of training labels.\n",
        "+ **test_images:** A numpy array of testing images.\n",
        "+ **test_labels:** A numpy array of testing labels.\n",
        "\n",
        "Let's take a moment to understand the data we're working with. We start by getting the shape of the training and test sets."
      ]
    },
    {
      "cell_type": "code",
      "execution_count": 4,
      "id": "e8e0e8d1",
      "metadata": {
        "id": "e8e0e8d1",
        "outputId": "aeed2303-4c26-4d58-d86e-b6fad1e67f66",
        "colab": {
          "base_uri": "https://localhost:8080/"
        }
      },
      "outputs": [
        {
          "output_type": "stream",
          "name": "stdout",
          "text": [
            "Training data shape: (60000, 28, 28)\n",
            "Testing data shape: (10000, 28, 28)\n"
          ]
        }
      ],
      "source": [
        "print('Training data shape:', train_images.shape)\n",
        "print('Testing data shape:', test_images.shape)"
      ]
    },
    {
      "cell_type": "markdown",
      "id": "7acd4a81",
      "metadata": {
        "id": "7acd4a81"
      },
      "source": [
        "The output tells us that:\n",
        "+ The training data consists of 60,000 images, each of size 28x28 pixels.\n",
        "+ The test data consists of 10,000 images, each of size 28x28 pixels.\n",
        "\n",
        "Visualizing some samples can provide further intuition about the dataset. Let's display the first 5 images in the training set along with their associated labels."
      ]
    },
    {
      "cell_type": "code",
      "execution_count": 5,
      "id": "3ac953fd",
      "metadata": {
        "id": "3ac953fd",
        "outputId": "b511b2f7-f2f6-4024-d867-5695e78cc09e",
        "colab": {
          "base_uri": "https://localhost:8080/",
          "height": 1000
        }
      },
      "outputs": [
        {
          "output_type": "display_data",
          "data": {
            "text/plain": [
              "<Figure size 640x480 with 1 Axes>"
            ],
            "image/png": "[encoded data removed]"
          },
          "metadata": {}
        },
        {
          "output_type": "display_data",
          "data": {
            "text/plain": [
              "<Figure size 640x480 with 1 Axes>"
            ],
            "image/png": "[encoded data removed]"
          },
          "metadata": {}
        },
        {
          "output_type": "display_data",
          "data": {
            "text/plain": [
              "<Figure size 640x480 with 1 Axes>"
            ],
            "image/png": "[encoded data removed]"
          },
          "metadata": {}
        },
        {
          "output_type": "display_data",
          "data": {
            "text/plain": [
              "<Figure size 640x480 with 1 Axes>"
            ],
            "image/png": "[encoded data removed]"
          },
          "metadata": {}
        },
        {
          "output_type": "display_data",
          "data": {
            "text/plain": [
              "<Figure size 640x480 with 1 Axes>"
            ],
            "image/png": "[encoded data removed]"
          },
          "metadata": {}
        }
      ],
      "source": [
        "import matplotlib.pyplot as plt\n",
        "\n",
        "for i in range(5):\n",
        "    plt.imshow(train_images[i], cmap = 'gray')\n",
        "    plt.title(f'Label: {train_labels[i]}')\n",
        "    plt.show()"
      ]
    },
    {
      "cell_type": "markdown",
      "id": "d7fa17d3",
      "metadata": {
        "id": "d7fa17d3"
      },
      "source": [
        "<div class=\"alert alert-success\"><h2>3. Preprocess the Data</h2></div>"
      ]
    },
    {
      "cell_type": "markdown",
      "id": "9ceed43f",
      "metadata": {
        "id": "9ceed43f"
      },
      "source": [
        "Before feeding the data into our deep learning model, we need to preprocess it to ensure optimal performance. Neural networks in Keras expect the input data to be in a specific shape. We're going to build a simple feedforward neural network (also known as a multilayer perceptron). This type of network expects the incoming data as a vector.\n",
        "\n",
        "This means we need to flatten the 28x28 images into vectors of size 784 (i.e. 28 $\\times$ 28)."
      ]
    },
    {
      "cell_type": "code",
      "execution_count": 6,
      "id": "414cf0a7",
      "metadata": {
        "id": "414cf0a7"
      },
      "outputs": [],
      "source": [
        "train_images = train_images.reshape(60000, 28 * 28)\n",
        "test_images = test_images.reshape(10000, 28 * 28)"
      ]
    },
    {
      "cell_type": "markdown",
      "id": "7e2c1ba2-1ff3-44df-bc01-33a3836349fc",
      "metadata": {
        "id": "7e2c1ba2-1ff3-44df-bc01-33a3836349fc"
      },
      "source": [
        "Let's get the shape of the training and test sets again."
      ]
    },
    {
      "cell_type": "code",
      "execution_count": 7,
      "id": "e20c659f-51a8-4e37-addd-9e2ab3e2e622",
      "metadata": {
        "id": "e20c659f-51a8-4e37-addd-9e2ab3e2e622",
        "outputId": "63d3f0a2-f68c-411c-c4c4-820ef4e5e1d3",
        "colab": {
          "base_uri": "https://localhost:8080/"
        }
      },
      "outputs": [
        {
          "output_type": "stream",
          "name": "stdout",
          "text": [
            "Training data shape: (60000, 784)\n",
            "Testing data shape: (10000, 784)\n"
          ]
        }
      ],
      "source": [
        "print('Training data shape:', train_images.shape)\n",
        "print('Testing data shape:', test_images.shape)"
      ]
    },
    {
      "cell_type": "markdown",
      "id": "19040ba6",
      "metadata": {
        "id": "19040ba6"
      },
      "source": [
        "Now, `train_images` and `test_images` have shapes (60000, 784) and (10000, 784), respectively.\n",
        "\n",
        "Pixel values in images range from 0 to 255. Neural networks perform better when input values are scaled to a smaller range, typically between 0 and 1. To accommodate this, we convert the data type of the image pixels to float32 and normalize the values to fall within 0 and 1 by dividing them by 255."
      ]
    },
    {
      "cell_type": "code",
      "execution_count": 8,
      "id": "68797c60",
      "metadata": {
        "id": "68797c60"
      },
      "outputs": [],
      "source": [
        "train_images = train_images.astype('float32') / 255\n",
        "test_images = test_images.astype('float32') / 255"
      ]
    },
    {
      "cell_type": "markdown",
      "id": "a7335fcb",
      "metadata": {
        "id": "a7335fcb"
      },
      "source": [
        "The label values associated with each image are integers from 0 to 9. For multi-class classification, it's standard to convert these labels into one-hot encoded vectors. One-hot encoding involves representing categorical variables as binary vectors. For instance, label '0' becomes [1, 0, 0, 0, 0, 0, 0, 0, 0, 0] and label '9' becomes [0, 0, 0, 0, 0, 0, 0, 0, 0, 1]."
      ]
    },
    {
      "cell_type": "code",
      "execution_count": 9,
      "id": "9ed7b544",
      "metadata": {
        "id": "9ed7b544"
      },
      "outputs": [],
      "source": [
        "num_classes = 10\n",
        "train_labels = keras.utils.to_categorical(train_labels, num_classes)\n",
        "test_labels = keras.utils.to_categorical(test_labels, num_classes)"
      ]
    },
    {
      "cell_type": "markdown",
      "id": "a54ab788",
      "metadata": {
        "id": "a54ab788"
      },
      "source": [
        "Now, `train_labels` and `test_labels` are matrices of shape (60000, 10) and (10000, 10), respectively."
      ]
    },
    {
      "cell_type": "markdown",
      "id": "67c95c2e",
      "metadata": {
        "id": "67c95c2e"
      },
      "source": [
        "<div class=\"alert alert-success\"><h2>4. Define the Model Architecture</h2></div>"
      ]
    },
    {
      "cell_type": "markdown",
      "id": "f67f001a",
      "metadata": {
        "id": "f67f001a"
      },
      "source": [
        "A neural network's architecture defines how the data flows through the model, how layers are connected, and what operations are performed. To define the architecture of our model, we'll use the **Sequential API** in Keras, which allows us to build models layer by layer.\n",
        "\n",
        "We start by initializing the Sequential model."
      ]
    },
    {
      "cell_type": "code",
      "execution_count": 10,
      "id": "f0aa0d02",
      "metadata": {
        "id": "f0aa0d02"
      },
      "outputs": [],
      "source": [
        "model = keras.Sequential()"
      ]
    },
    {
      "cell_type": "markdown",
      "id": "7f3d333a",
      "metadata": {
        "id": "7f3d333a"
      },
      "source": [
        "Then we specify the shape of the input data. This represents the input layer."
      ]
    },
    {
      "cell_type": "code",
      "execution_count": 11,
      "id": "57f1a124",
      "metadata": {
        "id": "57f1a124"
      },
      "outputs": [],
      "source": [
        "model.add(keras.Input(shape = (784,)))"
      ]
    },
    {
      "cell_type": "markdown",
      "id": "72154c2c",
      "metadata": {
        "id": "72154c2c"
      },
      "source": [
        "Next, we add two fully connected (or dense) layers - one with 512 neurons, and the other with 128 neurons. We use the Rectified Linear Unit (ReLU) activation function for both. Recall that the ReLU activation function introduces non-linearity into a model and helps with the vanishing gradient problem."
      ]
    },
    {
      "cell_type": "code",
      "execution_count": 12,
      "id": "abd1cc29",
      "metadata": {
        "id": "abd1cc29"
      },
      "outputs": [],
      "source": [
        "model.add(layers.Dense(512, activation = 'relu'))\n",
        "model.add(layers.Dense(128, activation = 'relu'))"
      ]
    },
    {
      "cell_type": "markdown",
      "id": "9e47e4eb",
      "metadata": {
        "id": "9e47e4eb"
      },
      "source": [
        "For this simple model, we'll limit the architecture to a two hidden layers and proceed directly to the output layer. In more complex models, we can add multiple hidden layers to capture intricate patterns in the data.\n",
        "\n",
        "The ouput layer contains 10 neurons corresponding to the 10 classes (digits 0-9) and uses the softmax activation function to convert the raw score output of the model to probabilities."
      ]
    },
    {
      "cell_type": "code",
      "execution_count": 13,
      "id": "f02197ba",
      "metadata": {
        "id": "f02197ba"
      },
      "outputs": [],
      "source": [
        "model.add(layers.Dense(10, activation = 'softmax'))"
      ]
    },
    {
      "cell_type": "markdown",
      "id": "5f50d219",
      "metadata": {
        "id": "5f50d219"
      },
      "source": [
        "Rather than adding each layer of the model one by one, we can also define the entire model at once as follows:"
      ]
    },
    {
      "cell_type": "code",
      "execution_count": 14,
      "id": "98d9492c",
      "metadata": {
        "id": "98d9492c"
      },
      "outputs": [],
      "source": [
        "model = keras.Sequential([\n",
        "    keras.Input(shape = (784,)),\n",
        "    layers.Dense(512, activation = 'relu'),\n",
        "    layers.Dense(128, activation ='relu'),\n",
        "    layers.Dense(10, activation = 'softmax')\n",
        "])"
      ]
    },
    {
      "cell_type": "markdown",
      "id": "ae748b5a",
      "metadata": {
        "id": "ae748b5a"
      },
      "source": [
        "We can view a summary of the model architecture by calling the `summary()` method of the model."
      ]
    },
    {
      "cell_type": "code",
      "execution_count": 15,
      "id": "d2fb6a2f",
      "metadata": {
        "scrolled": true,
        "id": "d2fb6a2f",
        "outputId": "4265e178-902e-4cf3-a711-a7823ff6aa5c",
        "colab": {
          "base_uri": "https://localhost:8080/",
          "height": 225
        }
      },
      "outputs": [
        {
          "output_type": "display_data",
          "data": {
            "text/plain": [
              "\u001b[1mModel: \"sequential_1\"\u001b[0m\n"
            ],
            "text/html": [
              "<pre style=\"white-space:pre;overflow-x:auto;line-height:normal;font-family:Menlo,'DejaVu Sans Mono',consolas,'Courier New',monospace\"><span style=\"font-weight: bold\">Model: \"sequential_1\"</span>\n",
              "</pre>\n"
            ]
          },
          "metadata": {}
        },
        {
          "output_type": "display_data",
          "data": {
            "text/plain": [
              "┏━━━━━━━━━━━━━━━━━━━━━━━━━━━━━━━━━┳━━━━━━━━━━━━━━━━━━━━━━━━┳━━━━━━━━━━━━━━━┓\n",
              "┃\u001b[1m \u001b[0m\u001b[1mLayer (type)                   \u001b[0m\u001b[1m \u001b[0m┃\u001b[1m \u001b[0m\u001b[1mOutput Shape          \u001b[0m\u001b[1m \u001b[0m┃\u001b[1m \u001b[0m\u001b[1m      Param #\u001b[0m\u001b[1m \u001b[0m┃\n",
              "┡━━━━━━━━━━━━━━━━━━━━━━━━━━━━━━━━━╇━━━━━━━━━━━━━━━━━━━━━━━━╇━━━━━━━━━━━━━━━┩\n",
              "│ dense_3 (\u001b[38;5;33mDense\u001b[0m)                 │ (\u001b[38;5;45mNone\u001b[0m, \u001b[38;5;34m512\u001b[0m)            │       \u001b[38;5;34m401,920\u001b[0m │\n",
              "├─────────────────────────────────┼────────────────────────┼───────────────┤\n",
              "│ dense_4 (\u001b[38;5;33mDense\u001b[0m)                 │ (\u001b[38;5;45mNone\u001b[0m, \u001b[38;5;34m128\u001b[0m)            │        \u001b[38;5;34m65,664\u001b[0m │\n",
              "├─────────────────────────────────┼────────────────────────┼───────────────┤\n",
              "│ dense_5 (\u001b[38;5;33mDense\u001b[0m)                 │ (\u001b[38;5;45mNone\u001b[0m, \u001b[38;5;34m10\u001b[0m)             │         \u001b[38;5;34m1,290\u001b[0m │\n",
              "└─────────────────────────────────┴────────────────────────┴───────────────┘\n"
            ],
            "text/html": [
              "<pre style=\"white-space:pre;overflow-x:auto;line-height:normal;font-family:Menlo,'DejaVu Sans Mono',consolas,'Courier New',monospace\">┏━━━━━━━━━━━━━━━━━━━━━━━━━━━━━━━━━┳━━━━━━━━━━━━━━━━━━━━━━━━┳━━━━━━━━━━━━━━━┓\n",
              "┃<span style=\"font-weight: bold\"> Layer (type)                    </span>┃<span style=\"font-weight: bold\"> Output Shape           </span>┃<span style=\"font-weight: bold\">       Param # </span>┃\n",
              "┡━━━━━━━━━━━━━━━━━━━━━━━━━━━━━━━━━╇━━━━━━━━━━━━━━━━━━━━━━━━╇━━━━━━━━━━━━━━━┩\n",
              "│ dense_3 (<span style=\"color: #0087ff; text-decoration-color: #0087ff\">Dense</span>)                 │ (<span style=\"color: #00d7ff; text-decoration-color: #00d7ff\">None</span>, <span style=\"color: #00af00; text-decoration-color: #00af00\">512</span>)            │       <span style=\"color: #00af00; text-decoration-color: #00af00\">401,920</span> │\n",
              "├─────────────────────────────────┼────────────────────────┼───────────────┤\n",
              "│ dense_4 (<span style=\"color: #0087ff; text-decoration-color: #0087ff\">Dense</span>)                 │ (<span style=\"color: #00d7ff; text-decoration-color: #00d7ff\">None</span>, <span style=\"color: #00af00; text-decoration-color: #00af00\">128</span>)            │        <span style=\"color: #00af00; text-decoration-color: #00af00\">65,664</span> │\n",
              "├─────────────────────────────────┼────────────────────────┼───────────────┤\n",
              "│ dense_5 (<span style=\"color: #0087ff; text-decoration-color: #0087ff\">Dense</span>)                 │ (<span style=\"color: #00d7ff; text-decoration-color: #00d7ff\">None</span>, <span style=\"color: #00af00; text-decoration-color: #00af00\">10</span>)             │         <span style=\"color: #00af00; text-decoration-color: #00af00\">1,290</span> │\n",
              "└─────────────────────────────────┴────────────────────────┴───────────────┘\n",
              "</pre>\n"
            ]
          },
          "metadata": {}
        },
        {
          "output_type": "display_data",
          "data": {
            "text/plain": [
              "\u001b[1m Total params: \u001b[0m\u001b[38;5;34m468,874\u001b[0m (1.79 MB)\n"
            ],
            "text/html": [
              "<pre style=\"white-space:pre;overflow-x:auto;line-height:normal;font-family:Menlo,'DejaVu Sans Mono',consolas,'Courier New',monospace\"><span style=\"font-weight: bold\"> Total params: </span><span style=\"color: #00af00; text-decoration-color: #00af00\">468,874</span> (1.79 MB)\n",
              "</pre>\n"
            ]
          },
          "metadata": {}
        },
        {
          "output_type": "display_data",
          "data": {
            "text/plain": [
              "\u001b[1m Trainable params: \u001b[0m\u001b[38;5;34m468,874\u001b[0m (1.79 MB)\n"
            ],
            "text/html": [
              "<pre style=\"white-space:pre;overflow-x:auto;line-height:normal;font-family:Menlo,'DejaVu Sans Mono',consolas,'Courier New',monospace\"><span style=\"font-weight: bold\"> Trainable params: </span><span style=\"color: #00af00; text-decoration-color: #00af00\">468,874</span> (1.79 MB)\n",
              "</pre>\n"
            ]
          },
          "metadata": {}
        },
        {
          "output_type": "display_data",
          "data": {
            "text/plain": [
              "\u001b[1m Non-trainable params: \u001b[0m\u001b[38;5;34m0\u001b[0m (0.00 B)\n"
            ],
            "text/html": [
              "<pre style=\"white-space:pre;overflow-x:auto;line-height:normal;font-family:Menlo,'DejaVu Sans Mono',consolas,'Courier New',monospace\"><span style=\"font-weight: bold\"> Non-trainable params: </span><span style=\"color: #00af00; text-decoration-color: #00af00\">0</span> (0.00 B)\n",
              "</pre>\n"
            ]
          },
          "metadata": {}
        }
      ],
      "source": [
        "model.summary()"
      ]
    },
    {
      "cell_type": "markdown",
      "id": "eaa3f850",
      "metadata": {
        "id": "eaa3f850"
      },
      "source": [
        "The output shows the total number of parameters (weights and biases in each layer) that will be trained for the model.\n",
        "\n",
        "+ First Hidden Layer: 784 inputs $\\times$ 512 neurons + 512 biases = 401,920 parameters.\n",
        "+ Second Hidden Layer: 512 inputs $\\times$ 128 neurons + 128 biases = 65,664 parameters.\n",
        "+ Output Layer: 128 inputs $\\times$ 10 neurons + 10 biases = 1,290 parameters.\n",
        "\n",
        "A total of **468,874** weights and biases will be trained for the model."
      ]
    },
    {
      "cell_type": "markdown",
      "id": "10bade21",
      "metadata": {
        "id": "10bade21"
      },
      "source": [
        "Visually, the neural network we just defined can be represented in the following way:\n",
        "\n",
        "<img src=\"https://github.com/sakshigorkhali/deep-learning-course/blob/main/nnet.jpg?raw=1\" width=\"50%\"/>"
      ]
    }
  ],
  "metadata": {
    "kernelspec": {
      "display_name": "Python 3 (ipykernel)",
      "language": "python",
      "name": "python3"
    },
    "language_info": {
      "codemirror_mode": {
        "name": "ipython",
        "version": 3
      },
      "file_extension": ".py",
      "mimetype": "text/x-python",
      "name": "python",
      "nbconvert_exporter": "python",
      "pygments_lexer": "ipython3",
      "version": "3.10.9"
    },
    "colab": {
      "provenance": []
    }
  },
  "nbformat": 4,
  "nbformat_minor": 5
}