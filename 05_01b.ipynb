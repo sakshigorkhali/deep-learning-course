{
  "cells": [
    {
      "cell_type": "markdown",
      "id": "3ed2254f",
      "metadata": {
        "id": "3ed2254f"
      },
      "source": [
        "<div class=\"alert alert-success\"><h1>Evaluating a Deep Learning Model in Python</h1></div>"
      ]
    },
    {
      "cell_type": "markdown",
      "id": "11963cc7",
      "metadata": {
        "id": "11963cc7"
      },
      "source": [
        "Deep learning has transformed machine learning, driving breakthroughs in computer vision, natural language processing, and speech recognition. In this tutorial, we'll explore the crucial step of evaluating a deep learning model in Python, focusing on metrics that reveal different aspects of model performance. We'll learn to measure predictive accuracy, interpret a confusion matrix, and assess model precision, recall, and the F1-score. These evaluation metrics are essential for understanding a model's strengths and highlighting areas for improvement.\n",
        "\n",
        "## Learning Objectives\n",
        "By the end of this tutorial, you will:\n",
        "+ Know how to load a previously trained Keras model.\n",
        "+ Know how to compute and visualize a confusion matrix.\n",
        "+ Understand the structure and components of a confusion matrix.\n",
        "+ Know how to calculate key performance metrics such as accuracy, precision, recall, and F1-score.\n",
        "+ Be able to differentiate between precision and recall, understanding the trade-offs between the two.\n",
        "+ Understand the importance of the F1-score as a balanced metric between precision and recall.\n",
        "\n",
        "\n",
        "## Prerequisites\n",
        "Before we begin, ensure you have:\n",
        "\n",
        "+ Basic knowledge of Python programming (variables, functions, classes).\n",
        "+ Familiarity with fundamental machine learning concepts (datasets, training/testing, overfitting).\n",
        "+ A Python (version 3.x) environment with the `tensorflow`, `keras`, `numpy`, `matplotlib`, `seaborn`, and `sklearn` packages installed."
      ]
    },
    {
      "cell_type": "markdown",
      "id": "2887bb87",
      "metadata": {
        "id": "2887bb87"
      },
      "source": [
        "<div class=\"alert alert-success\"><h2>1. Import the Model and Preprocess the Data</h2></div>"
      ]
    },
    {
      "cell_type": "markdown",
      "id": "7c96c17b",
      "metadata": {
        "id": "7c96c17b"
      },
      "source": [
        "To start, we import the deep learning model we trained in the previous tutorial."
      ]
    },
    {
      "cell_type": "code",
      "execution_count": 2,
      "id": "b1c664ab",
      "metadata": {
        "id": "b1c664ab"
      },
      "outputs": [],
      "source": [
        "from tensorflow import keras\n",
        "\n",
        "model = keras.models.load_model('nnet_model.keras')"
      ]
    },
    {
      "cell_type": "markdown",
      "id": "eff3ec92",
      "metadata": {
        "id": "eff3ec92"
      },
      "source": [
        "Next, we import the test data, which is new unseen data that our model will be evaluated against.\n",
        "\n",
        "Recall that the test data is part of the **MNIST dataset**, a classic dataset in the machine learning community. It consists of 70,000 grayscale images of handwritten digits ranging from 0 to 9. Each image is 28x28 pixels, and the dataset is divided into 60,000 training images and 10,000 testing images.\n",
        "\n",
        "To get the test images and test labels, we call the `keras.datasets.mnist.load_data()` function:"
      ]
    },
    {
      "cell_type": "code",
      "execution_count": 3,
      "id": "b53e3b3f",
      "metadata": {
        "scrolled": true,
        "id": "b53e3b3f",
        "outputId": "ba606a6e-e4c4-4b90-bc38-9efdbdddd23d",
        "colab": {
          "base_uri": "https://localhost:8080/"
        }
      },
      "outputs": [
        {
          "output_type": "stream",
          "name": "stdout",
          "text": [
            "Downloading data from https://storage.googleapis.com/tensorflow/tf-keras-datasets/mnist.npz\n",
            "\u001b[1m11490434/11490434\u001b[0m \u001b[32m━━━━━━━━━━━━━━━━━━━━\u001b[0m\u001b[37m\u001b[0m \u001b[1m0s\u001b[0m 0us/step\n"
          ]
        }
      ],
      "source": [
        "(train_images, train_labels), (test_images, test_labels) = keras.datasets.mnist.load_data()"
      ]
    },
    {
      "cell_type": "markdown",
      "id": "ffff433d",
      "metadata": {
        "id": "ffff433d"
      },
      "source": [
        "Note that the function returns both the training and test datasets. We'll ignore the training data for this tutorial.\n",
        "\n",
        "Our deep learning model expects the test images as a vector of size 784 (i.e. 28 $\\times$ 28). So, let's flatten the images."
      ]
    },
    {
      "cell_type": "code",
      "execution_count": 4,
      "id": "4f5fee70",
      "metadata": {
        "id": "4f5fee70"
      },
      "outputs": [],
      "source": [
        "test_images = test_images.reshape(10000, 28 * 28)"
      ]
    },
    {
      "cell_type": "markdown",
      "id": "87fb7cc6",
      "metadata": {
        "id": "87fb7cc6"
      },
      "source": [
        "The model also expects the image pixel values scaled. Let's do that as well."
      ]
    },
    {
      "cell_type": "code",
      "execution_count": 5,
      "id": "49d2d184",
      "metadata": {
        "id": "49d2d184"
      },
      "outputs": [],
      "source": [
        "test_images = test_images.astype('float32') / 255"
      ]
    },
    {
      "cell_type": "markdown",
      "id": "4cf76519",
      "metadata": {
        "id": "4cf76519"
      },
      "source": [
        "Finally, we also need to one-hot encode the image labels."
      ]
    },
    {
      "cell_type": "code",
      "execution_count": 6,
      "id": "9454177f",
      "metadata": {
        "id": "9454177f"
      },
      "outputs": [],
      "source": [
        "num_classes = 10\n",
        "test_labels = keras.utils.to_categorical(test_labels, num_classes)"
      ]
    },
    {
      "cell_type": "markdown",
      "id": "ecc258bf",
      "metadata": {
        "id": "ecc258bf"
      },
      "source": [
        "<div class=\"alert alert-success\"><h2>2. Predictive Accuracy</h2></div>"
      ]
    },
    {
      "cell_type": "markdown",
      "id": "9b1df9bb",
      "metadata": {
        "id": "9b1df9bb"
      },
      "source": [
        "After training, it's crucial to assess how well a model is expected to perform against new, unseen data. There are several metrics that provide us with this information. **Predictive accuracy** is one of them. Predictive accuracy is a straightforward metric and is defined as the ratio of correctly predicted instances to the total number of instances in the data. It is a common metric for classification tasks.\n",
        "\n",
        "$$\n",
        "\\text{Accuracy} = \\frac{\\text{Number of Correct Predictions}}{\\text{Total Number of Predictions}}\n",
        "$$\n",
        "\n",
        "To get the predictve accuracy of our model, we first get the predicted probabilities for each of the test images."
      ]
    },
    {
      "cell_type": "code",
      "execution_count": 7,
      "id": "a48b629f",
      "metadata": {
        "id": "a48b629f",
        "outputId": "5205a6cd-334b-4e30-adb7-66f67fea2d93",
        "colab": {
          "base_uri": "https://localhost:8080/"
        }
      },
      "outputs": [
        {
          "output_type": "stream",
          "name": "stdout",
          "text": [
            "\u001b[1m313/313\u001b[0m \u001b[32m━━━━━━━━━━━━━━━━━━━━\u001b[0m\u001b[37m\u001b[0m \u001b[1m1s\u001b[0m 2ms/step\n"
          ]
        }
      ],
      "source": [
        "predictions = model.predict(test_images)"
      ]
    },
    {
      "cell_type": "markdown",
      "id": "778186fd",
      "metadata": {
        "id": "778186fd"
      },
      "source": [
        "Then we convert the probabilities to class labels by selecting the class label with the highest predicted probability using the `argmax()` function from the `numpy` package."
      ]
    },
    {
      "cell_type": "code",
      "execution_count": 8,
      "id": "88671579",
      "metadata": {
        "id": "88671579"
      },
      "outputs": [],
      "source": [
        "import numpy as np\n",
        "predicted_classes = np.argmax(predictions, axis = 1)"
      ]
    },
    {
      "cell_type": "markdown",
      "id": "4f3d7a3b",
      "metadata": {
        "id": "4f3d7a3b"
      },
      "source": [
        "We do the same thing for the true test labels."
      ]
    },
    {
      "cell_type": "code",
      "execution_count": 10,
      "id": "5289bce0",
      "metadata": {
        "id": "5289bce0"
      },
      "outputs": [],
      "source": [
        "true_classes = np.argmax(test_labels, axis = 1)"
      ]
    },
    {
      "cell_type": "markdown",
      "id": "925b5a84",
      "metadata": {
        "id": "925b5a84"
      },
      "source": [
        "With the predicted and true class values, we can use the `accuracy_score()` function provided by `sklearn.metrics` to calculate the accuracy of the model on the test data."
      ]
    },
    {
      "cell_type": "code",
      "execution_count": 11,
      "id": "ea70c48a",
      "metadata": {
        "id": "ea70c48a",
        "outputId": "6c10f2f8-f339-4e71-9a9c-6723fd9bd6cd",
        "colab": {
          "base_uri": "https://localhost:8080/"
        }
      },
      "outputs": [
        {
          "output_type": "stream",
          "name": "stdout",
          "text": [
            "Predictive accuracy: 0.9801\n"
          ]
        }
      ],
      "source": [
        "from sklearn.metrics import accuracy_score\n",
        "accuracy = accuracy_score(true_classes, predicted_classes)\n",
        "print(\"Predictive accuracy:\", accuracy)"
      ]
    },
    {
      "cell_type": "markdown",
      "id": "5d766b35",
      "metadata": {
        "id": "5d766b35"
      },
      "source": [
        "A predictive accuracy of 0.9801 means that 98.01% of the predictions made by the model were correct. In other words, out of the 10,000 test images in the data, the model correctly predicted the labels for 9,801 of them, while 199 were misclassified."
      ]
    },
    {
      "cell_type": "markdown",
      "id": "96308dad",
      "metadata": {
        "id": "96308dad"
      },
      "source": [
        "Predictive accuracy provides an overall view of how well a model performs on the entire test dataset, giving a general sense of its effectiveness. However, this metric alone may not always reveal important details about the model's weaknesses. To gain deeper insights, it can be useful to examine specific instances where the model made errors.\n",
        "\n",
        "One way to do this is by identifying and analyzing misclassified examples (i.e. those cases where the model's predictions differ from the true labels). By visualizing a few of these misclassified images, along with their actual and predicted labels, we can better understand patterns in the model's mistakes and identify areas for improvement."
      ]
    },
    {
      "cell_type": "code",
      "execution_count": 15,
      "id": "c02d1af0",
      "metadata": {
        "id": "c02d1af0",
        "outputId": "abd954ea-e14e-47f5-849f-9cbc10fe17fd",
        "colab": {
          "base_uri": "https://localhost:8080/",
          "height": 1000
        }
      },
      "outputs": [
        {
          "output_type": "display_data",
          "data": {
            "text/plain": [
              "<Figure size 640x480 with 1 Axes>"
            ],
            "image/png": "[encoded data removed]"
          },
          "metadata": {}
        },
        {
          "output_type": "display_data",
          "data": {
            "text/plain": [
              "<Figure size 640x480 with 1 Axes>"
            ],
            "image/png": "[encoded data removed]"
          },
          "metadata": {}
        },
        {
          "output_type": "display_data",
          "data": {
            "text/plain": [
              "<Figure size 640x480 with 1 Axes>"
            ],
            "image/png": "[encoded data removed]"
          },
          "metadata": {}
        },
        {
          "output_type": "display_data",
          "data": {
            "text/plain": [
              "<Figure size 640x480 with 1 Axes>"
            ],
            "image/png": "[encoded data removed]"
          },
          "metadata": {}
        },
        {
          "output_type": "display_data",
          "data": {
            "text/plain": [
              "<Figure size 640x480 with 1 Axes>"
            ],
            "image/png": "[encoded data removed]"
          },
          "metadata": {}
        }
      ],
      "source": [
        "import matplotlib.pyplot as plt\n",
        "missclassified_indices = np.where(predicted_classes != true_classes)[0]\n",
        "\n",
        "for i in missclassified_indices[:5]:\n",
        "    plt.imshow(test_images[i].reshape(28, 28), cmap='gray')\n",
        "    plt.title(f\"True: {true_classes[i]}, Predicted: {predicted_classes[i]}\")\n",
        "    plt.show()"
      ]
    },
    {
      "cell_type": "code",
      "source": [],
      "metadata": {
        "id": "wK4iVDsnc7PR"
      },
      "id": "wK4iVDsnc7PR",
      "execution_count": null,
      "outputs": []
    }
  ],
  "metadata": {
    "kernelspec": {
      "display_name": "Python 3 (ipykernel)",
      "language": "python",
      "name": "python3"
    },
    "language_info": {
      "codemirror_mode": {
        "name": "ipython",
        "version": 3
      },
      "file_extension": ".py",
      "mimetype": "text/x-python",
      "name": "python",
      "nbconvert_exporter": "python",
      "pygments_lexer": "ipython3",
      "version": "3.10.9"
    },
    "colab": {
      "provenance": []
    }
  },
  "nbformat": 4,
  "nbformat_minor": 5
}