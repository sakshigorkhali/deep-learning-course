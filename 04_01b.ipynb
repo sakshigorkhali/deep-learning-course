{
 "cells": [
  {
   "cell_type": "markdown",
   "id": "4762486a",
   "metadata": {},
   "source": [
    "<div class=\"alert alert-success\"><h1>Deep Learning with Python using Keras</h1></div>"
   ]
  },
  {
   "cell_type": "markdown",
   "id": "11963cc7",
   "metadata": {},
   "source": [
    "Deep learning has revolutionized the field of machine learning, enabling significant advancements in areas such as computer vision, natural language processing, and speech recognition. In this tutorial, we'll embark on our deep learning journey by learning how to design and build a deep learning model using Keras, a user-friendly and high-level neural networks API, written in Python and capable of running on top of TensorFlow. Keras allows for easy and fast prototyping of deep learning models.\n",
    "\n",
    "## Learning Objectives\n",
    "By the end of this tutorial, you will:\n",
    "+ Understand the basics of Keras.\n",
    "+ Know how to load and preprocess data.\n",
    "+ Know how to define a deep learning model in Keras.\n",
    "+ Understand how to compile a Keras model.\n",
    "+ Know how to train and save a model.\n",
    "\n",
    "## Prerequisites\n",
    "Before we begin, ensure you have:\n",
    "\n",
    "+ Basic knowledge of Python programming (variables, functions, classes).\n",
    "+ Familiarity with fundamental machine learning concepts (datasets, training/testing, overfitting).\n",
    "+ A Python (version 3.x) environment with the `tensorflow`, `keras`, `numpy`, and `matplotlib` packages installed."
   ]
  },
  {
   "cell_type": "markdown",
   "id": "2887bb87",
   "metadata": {},
   "source": [
    "<div class=\"alert alert-success\"><h2>1. Import the Libraries</h2></div>"
   ]
  },
  {
   "cell_type": "markdown",
   "id": "7c96c17b",
   "metadata": {},
   "source": [
    "To start, we'll import the necessary libraries that we'll use throughout this tutorial."
   ]
  },
  {
   "cell_type": "code",
   "execution_count": null,
   "id": "b1c664ab",
   "metadata": {},
   "outputs": [],
   "source": []
  },
  {
   "cell_type": "markdown",
   "id": "eff3ec92",
   "metadata": {},
   "source": [
    "The libraries we imported are:\n",
    "+ **numpy:** A fundamental package for scientific computing in Python, used for handling arrays and mathematical functions.\n",
    "+ **tensorflow:** An open-source platform for machine learning developed by Google.\n",
    "+ **keras:** A high-level API for building and training deep learning models, integrated within TensorFlow.\n",
    "+ **layers:** A module in Keras containing various types of neural network layers.\n",
    "\n",
    "To ensure reproducibility of my code, so you obtain the same results as my example, I will set a random initialization seed using the `keras.utils.set_random_seed()` function. This will make the weights and biases initialized during the training process deterministic, ensuring consistent results across different runs. However, in practice, setting a seed is not typically necessary."
   ]
  },
  {
   "cell_type": "code",
   "execution_count": null,
   "id": "c8c6b3c3",
   "metadata": {},
   "outputs": [],
   "source": []
  },
  {
   "cell_type": "markdown",
   "id": "e685885f",
   "metadata": {},
   "source": [
    "<div class=\"alert alert-success\"><h2>2. Load the Data</h2></div>"
   ]
  },
  {
   "cell_type": "markdown",
   "id": "ea22993f",
   "metadata": {},
   "source": [
    "For this tutorial, we'll use the **MNIST dataset**, a classic dataset in the machine learning community. It consists of 70,000 grayscale images of handwritten digits ranging from 0 to 9. Each image is 28x28 pixels, and the dataset is divided into 60,000 training images and 10,000 testing images. Our goal will be to develop a model that learns to correctly identify a handritten digit given the image.\n",
    "\n",
    "Keras provides easy access to the MNIST dataset via its datasets module."
   ]
  },
  {
   "cell_type": "code",
   "execution_count": null,
   "id": "b53e3b3f",
   "metadata": {
    "scrolled": true
   },
   "outputs": [],
   "source": []
  },
  {
   "cell_type": "markdown",
   "id": "0e348b40",
   "metadata": {},
   "source": [
    "The `keras.datasets.minist.load_data()` function returns four datasets:\n",
    "+ **train_images:** A numpy array of training images.\n",
    "+ **train_labels:** A numpy array of training labels.\n",
    "+ **test_images:** A numpy array of testing images.\n",
    "+ **test_labels:** A numpy array of testing labels.\n",
    "\n",
    "Let's take a moment to understand the data we're working with. We start by getting the shape of the training and test sets."
   ]
  },
  {
   "cell_type": "code",
   "execution_count": null,
   "id": "e8e0e8d1",
   "metadata": {},
   "outputs": [],
   "source": []
  },
  {
   "cell_type": "markdown",
   "id": "7acd4a81",
   "metadata": {},
   "source": [
    "The output tells us that:\n",
    "+ The training data consists of 60,000 images, each of size 28x28 pixels.\n",
    "+ The test data consists of 10,000 images, each of size 28x28 pixels.\n",
    "\n",
    "Visualizing some samples can provide further intuition about the dataset. Let's display the first 5 images in the training set along with their associated labels."
   ]
  },
  {
   "cell_type": "code",
   "execution_count": null,
   "id": "3ac953fd",
   "metadata": {},
   "outputs": [],
   "source": []
  },
  {
   "cell_type": "markdown",
   "id": "d7fa17d3",
   "metadata": {},
   "source": [
    "<div class=\"alert alert-success\"><h2>3. Preprocess the Data</h2></div>"
   ]
  },
  {
   "cell_type": "markdown",
   "id": "9ceed43f",
   "metadata": {},
   "source": [
    "Before feeding the data into our deep learning model, we need to preprocess it to ensure optimal performance. Neural networks in Keras expect the input data to be in a specific shape. We're going to build a simple feedforward neural network (also known as a multilayer perceptron). This type of network expects the incoming data as a vector.\n",
    "\n",
    "This means we need to flatten the 28x28 images into vectors of size 784 (i.e. 28 $\\times$ 28)."
   ]
  },
  {
   "cell_type": "code",
   "execution_count": null,
   "id": "414cf0a7",
   "metadata": {},
   "outputs": [],
   "source": []
  },
  {
   "cell_type": "markdown",
   "id": "7e2c1ba2-1ff3-44df-bc01-33a3836349fc",
   "metadata": {},
   "source": [
    "Let's get the shape of the training and test sets again."
   ]
  },
  {
   "cell_type": "code",
   "execution_count": null,
   "id": "e20c659f-51a8-4e37-addd-9e2ab3e2e622",
   "metadata": {},
   "outputs": [],
   "source": []
  },
  {
   "cell_type": "markdown",
   "id": "19040ba6",
   "metadata": {},
   "source": [
    "Now, `train_images` and `test_images` have shapes (60000, 784) and (10000, 784), respectively.\n",
    "\n",
    "Pixel values in images range from 0 to 255. Neural networks perform better when input values are scaled to a smaller range, typically between 0 and 1. To accommodate this, we convert the data type of the image pixels to float32 and normalize the values to fall within 0 and 1 by dividing them by 255."
   ]
  },
  {
   "cell_type": "code",
   "execution_count": null,
   "id": "68797c60",
   "metadata": {},
   "outputs": [],
   "source": []
  },
  {
   "cell_type": "markdown",
   "id": "a7335fcb",
   "metadata": {},
   "source": [
    "The label values associated with each image are integers from 0 to 9. For multi-class classification, it's standard to convert these labels into one-hot encoded vectors. One-hot encoding involves representing categorical variables as binary vectors. For instance, label '0' becomes [1, 0, 0, 0, 0, 0, 0, 0, 0, 0] and label '9' becomes [0, 0, 0, 0, 0, 0, 0, 0, 0, 1]."
   ]
  },
  {
   "cell_type": "code",
   "execution_count": null,
   "id": "9ed7b544",
   "metadata": {},
   "outputs": [],
   "source": []
  },
  {
   "cell_type": "markdown",
   "id": "a54ab788",
   "metadata": {},
   "source": [
    "Now, `train_labels` and `test_labels` are matrices of shape (60000, 10) and (10000, 10), respectively."
   ]
  }
 ],
 "metadata": {
  "kernelspec": {
   "display_name": "Python 3 (ipykernel)",
   "language": "python",
   "name": "python3"
  },
  "language_info": {
   "codemirror_mode": {
    "name": "ipython",
    "version": 3
   },
   "file_extension": ".py",
   "mimetype": "text/x-python",
   "name": "python",
   "nbconvert_exporter": "python",
   "pygments_lexer": "ipython3",
   "version": "3.10.9"
  }
 },
 "nbformat": 4,
 "nbformat_minor": 5
}
