{
  "cells": [
    {
      "cell_type": "markdown",
      "id": "4762486a",
      "metadata": {
        "id": "4762486a"
      },
      "source": [
        "<div class=\"alert alert-success\"><h1>Deep Learning with Python using Keras</h1></div>"
      ]
    },
    {
      "cell_type": "markdown",
      "id": "11963cc7",
      "metadata": {
        "id": "11963cc7"
      },
      "source": [
        "Deep learning has revolutionized the field of machine learning, enabling significant advancements in areas such as computer vision, natural language processing, and speech recognition. In this tutorial, we'll embark on our deep learning journey by learning how to design and build a deep learning model using Keras, a user-friendly and high-level neural networks API, written in Python and capable of running on top of TensorFlow. Keras allows for easy and fast prototyping of deep learning models.\n",
        "\n",
        "## Learning Objectives\n",
        "By the end of this tutorial, you will:\n",
        "+ Understand the basics of Keras.\n",
        "+ Know how to load and preprocess data.\n",
        "+ Know how to define a deep learning model in Keras.\n",
        "+ Understand how to compile a Keras model.\n",
        "+ Know how to train and save a model.\n",
        "\n",
        "## Prerequisites\n",
        "Before we begin, ensure you have:\n",
        "\n",
        "+ Basic knowledge of Python programming (variables, functions, classes).\n",
        "+ Familiarity with fundamental machine learning concepts (datasets, training/testing, overfitting).\n",
        "+ A Python (version 3.x) environment with the `tensorflow`, `keras`, `numpy`, and `matplotlib` packages installed."
      ]
    },
    {
      "cell_type": "markdown",
      "id": "2887bb87",
      "metadata": {
        "id": "2887bb87"
      },
      "source": [
        "<div class=\"alert alert-success\"><h2>1. Import the Libraries</h2></div>"
      ]
    },
    {
      "cell_type": "markdown",
      "id": "7c96c17b",
      "metadata": {
        "id": "7c96c17b"
      },
      "source": [
        "To start, we'll import the necessary libraries that we'll use throughout this tutorial."
      ]
    },
    {
      "cell_type": "code",
      "execution_count": 1,
      "id": "b1c664ab",
      "metadata": {
        "id": "b1c664ab"
      },
      "outputs": [],
      "source": [
        "import numpy as np\n",
        "from tensorflow import keras\n",
        "from tensorflow.keras import layers"
      ]
    },
    {
      "cell_type": "markdown",
      "id": "eff3ec92",
      "metadata": {
        "id": "eff3ec92"
      },
      "source": [
        "The libraries we imported are:\n",
        "+ **numpy:** A fundamental package for scientific computing in Python, used for handling arrays and mathematical functions.\n",
        "+ **tensorflow:** An open-source platform for machine learning developed by Google.\n",
        "+ **keras:** A high-level API for building and training deep learning models, integrated within TensorFlow.\n",
        "+ **layers:** A module in Keras containing various types of neural network layers.\n",
        "\n",
        "To ensure reproducibility of my code, so you obtain the same results as my example, I will set a random initialization seed using the `keras.utils.set_random_seed()` function. This will make the weights and biases initialized during the training process deterministic, ensuring consistent results across different runs. However, in practice, setting a seed is not typically necessary."
      ]
    },
    {
      "cell_type": "code",
      "execution_count": 2,
      "id": "c8c6b3c3",
      "metadata": {
        "id": "c8c6b3c3"
      },
      "outputs": [],
      "source": [
        "keras.utils.set_random_seed(1234)"
      ]
    },
    {
      "cell_type": "markdown",
      "id": "e685885f",
      "metadata": {
        "id": "e685885f"
      },
      "source": [
        "<div class=\"alert alert-success\"><h2>2. Load the Data</h2></div>"
      ]
    },
    {
      "cell_type": "markdown",
      "id": "ea22993f",
      "metadata": {
        "id": "ea22993f"
      },
      "source": [
        "For this tutorial, we'll use the **MNIST dataset**, a classic dataset in the machine learning community. It consists of 70,000 grayscale images of handwritten digits ranging from 0 to 9. Each image is 28x28 pixels, and the dataset is divided into 60,000 training images and 10,000 testing images. Our goal will be to develop a model that learns to correctly identify a handritten digit given the image.\n",
        "\n",
        "Keras provides easy access to the MNIST dataset via its datasets module."
      ]
    },
    {
      "cell_type": "code",
      "execution_count": 3,
      "id": "b53e3b3f",
      "metadata": {
        "scrolled": true,
        "id": "b53e3b3f",
        "outputId": "90583918-a27e-4a02-8abb-1038f767b0a8",
        "colab": {
          "base_uri": "https://localhost:8080/"
        }
      },
      "outputs": [
        {
          "output_type": "stream",
          "name": "stdout",
          "text": [
            "Downloading data from https://storage.googleapis.com/tensorflow/tf-keras-datasets/mnist.npz\n",
            "\u001b[1m11490434/11490434\u001b[0m \u001b[32m━━━━━━━━━━━━━━━━━━━━\u001b[0m\u001b[37m\u001b[0m \u001b[1m1s\u001b[0m 0us/step\n"
          ]
        }
      ],
      "source": [
        "(train_images, train_labels), (test_images, test_labels) = keras.datasets.mnist.load_data()"
      ]
    },
    {
      "cell_type": "markdown",
      "id": "0e348b40",
      "metadata": {
        "id": "0e348b40"
      },
      "source": [
        "The `keras.datasets.minist.load_data()` function returns four datasets:\n",
        "+ **train_images:** A numpy array of training images.\n",
        "+ **train_labels:** A numpy array of training labels.\n",
        "+ **test_images:** A numpy array of testing images.\n",
        "+ **test_labels:** A numpy array of testing labels.\n",
        "\n",
        "Let's take a moment to understand the data we're working with. We start by getting the shape of the training and test sets."
      ]
    },
    {
      "cell_type": "code",
      "source": [
        "print('Training data shape= ', train_images.shape)\n",
        "print('Testing data shape= ', test_images.shape)"
      ],
      "metadata": {
        "id": "ReiZ3ufgM880",
        "outputId": "5c1b4c38-228f-4e73-f07e-5a67f9521fe4",
        "colab": {
          "base_uri": "https://localhost:8080/"
        }
      },
      "id": "ReiZ3ufgM880",
      "execution_count": 7,
      "outputs": [
        {
          "output_type": "stream",
          "name": "stdout",
          "text": [
            "Training data shape=  (60000, 28, 28)\n",
            "Testing data shape=  (10000, 28, 28)\n"
          ]
        }
      ]
    },
    {
      "cell_type": "code",
      "source": [
        "test_labels.shape"
      ],
      "metadata": {
        "id": "6O2YAYJ5jm5N",
        "outputId": "f629befe-dbad-425c-ad91-5895c3a56830",
        "colab": {
          "base_uri": "https://localhost:8080/"
        }
      },
      "id": "6O2YAYJ5jm5N",
      "execution_count": 22,
      "outputs": [
        {
          "output_type": "execute_result",
          "data": {
            "text/plain": [
              "(10000, 10)"
            ]
          },
          "metadata": {},
          "execution_count": 22
        }
      ]
    },
    {
      "cell_type": "code",
      "source": [
        "test_labels[:10]"
      ],
      "metadata": {
        "id": "m7KjECopNpTM",
        "outputId": "11bdbd30-f208-47cd-e0ae-e4a216cf66ca",
        "colab": {
          "base_uri": "https://localhost:8080/"
        }
      },
      "id": "m7KjECopNpTM",
      "execution_count": 10,
      "outputs": [
        {
          "output_type": "execute_result",
          "data": {
            "text/plain": [
              "array([7, 2, 1, 0, 4, 1, 4, 9, 5, 9], dtype=uint8)"
            ]
          },
          "metadata": {},
          "execution_count": 10
        }
      ]
    },
    {
      "cell_type": "markdown",
      "id": "7acd4a81",
      "metadata": {
        "id": "7acd4a81"
      },
      "source": [
        "The output tells us that:\n",
        "+ The training data consists of 60,000 images, each of size 28x28 pixels.\n",
        "+ The test data consists of 10,000 images, each of size 28x28 pixels.\n",
        "\n",
        "Visualizing some samples can provide further intuition about the dataset. Let's display the first 5 images in the training set along with their associated labels."
      ]
    },
    {
      "cell_type": "code",
      "execution_count": 12,
      "id": "3ac953fd",
      "metadata": {
        "id": "3ac953fd",
        "outputId": "aac0764c-09e7-498b-9b8e-426151b314c1",
        "colab": {
          "base_uri": "https://localhost:8080/",
          "height": 1000
        }
      },
      "outputs": [
        {
          "output_type": "display_data",
          "data": {
            "text/plain": [
              "<Figure size 640x480 with 1 Axes>"
            ],
            "image/png": "[encoded data removed]"
          },
          "metadata": {}
        },
        {
          "output_type": "display_data",
          "data": {
            "text/plain": [
              "<Figure size 640x480 with 1 Axes>"
            ],
            "image/png": "[encoded data removed]"
          },
          "metadata": {}
        },
        {
          "output_type": "display_data",
          "data": {
            "text/plain": [
              "<Figure size 640x480 with 1 Axes>"
            ],
            "image/png": "[encoded data removed]"
          },
          "metadata": {}
        },
        {
          "output_type": "display_data",
          "data": {
            "text/plain": [
              "<Figure size 640x480 with 1 Axes>"
            ],
            "image/png": "[encoded data removed]"
          },
          "metadata": {}
        },
        {
          "output_type": "display_data",
          "data": {
            "text/plain": [
              "<Figure size 640x480 with 1 Axes>"
            ],
            "image/png": "[encoded data removed]"
          },
          "metadata": {}
        }
      ],
      "source": [
        "import matplotlib.pyplot as plt\n",
        "\n",
        "for i in range(5):\n",
        "  plt.imshow(train_images[i], cmap = 'gray')\n",
        "  plt.title(f'Training label: {train_labels[i]}')\n",
        "  plt.show()"
      ]
    },
    {
      "cell_type": "markdown",
      "id": "d7fa17d3",
      "metadata": {
        "id": "d7fa17d3"
      },
      "source": [
        "<div class=\"alert alert-success\"><h2>3. Preprocess the Data</h2></div>"
      ]
    },
    {
      "cell_type": "markdown",
      "id": "9ceed43f",
      "metadata": {
        "id": "9ceed43f"
      },
      "source": [
        "Before feeding the data into our deep learning model, we need to preprocess it to ensure optimal performance. Neural networks in Keras expect the input data to be in a specific shape. We're going to build a simple feedforward neural network (also known as a multilayer perceptron). This type of network expects the incoming data as a vector.\n",
        "\n",
        "This means we need to flatten the 28x28 images into vectors of size 784 (i.e. 28 $\\times$ 28)."
      ]
    },
    {
      "cell_type": "code",
      "execution_count": 13,
      "id": "414cf0a7",
      "metadata": {
        "id": "414cf0a7"
      },
      "outputs": [],
      "source": [
        "train_images = train_images.reshape(60000, 28*28)\n",
        "test_images = test_images.reshape(10000, 28*28)"
      ]
    },
    {
      "cell_type": "markdown",
      "id": "7e2c1ba2-1ff3-44df-bc01-33a3836349fc",
      "metadata": {
        "id": "7e2c1ba2-1ff3-44df-bc01-33a3836349fc"
      },
      "source": [
        "Let's get the shape of the training and test sets again."
      ]
    },
    {
      "cell_type": "code",
      "execution_count": 17,
      "id": "e20c659f-51a8-4e37-addd-9e2ab3e2e622",
      "metadata": {
        "id": "e20c659f-51a8-4e37-addd-9e2ab3e2e622",
        "outputId": "8184cb94-1569-4a86-b41d-83287b143d36",
        "colab": {
          "base_uri": "https://localhost:8080/"
        }
      },
      "outputs": [
        {
          "output_type": "stream",
          "name": "stdout",
          "text": [
            "Training data shape: (60000, 784)\n",
            "Testin data shape: (10000, 784)\n"
          ]
        }
      ],
      "source": [
        "print('Training data shape:', train_images.shape)\n",
        "print('Testin data shape:', test_images.shape)"
      ]
    },
    {
      "cell_type": "markdown",
      "id": "19040ba6",
      "metadata": {
        "id": "19040ba6"
      },
      "source": [
        "Now, `train_images` and `test_images` have shapes (60000, 784) and (10000, 784), respectively.\n",
        "\n",
        "Pixel values in images range from 0 to 255. Neural networks perform better when input values are scaled to a smaller range, typically between 0 and 1. To accommodate this, we convert the data type of the image pixels to float32 and normalize the values to fall within 0 and 1 by dividing them by 255."
      ]
    },
    {
      "cell_type": "code",
      "execution_count": 18,
      "id": "68797c60",
      "metadata": {
        "id": "68797c60"
      },
      "outputs": [],
      "source": [
        "train_images = train_images.astype('float32')/ 255\n",
        "test_images = test_images.astype('float32')/ 255"
      ]
    },
    {
      "cell_type": "markdown",
      "id": "a7335fcb",
      "metadata": {
        "id": "a7335fcb"
      },
      "source": [
        "The label values associated with each image are integers from 0 to 9. For multi-class classification, it's standard to convert these labels into one-hot encoded vectors. One-hot encoding involves representing categorical variables as binary vectors. For instance, label '0' becomes [1, 0, 0, 0, 0, 0, 0, 0, 0, 0] and label '9' becomes [0, 0, 0, 0, 0, 0, 0, 0, 0, 1]."
      ]
    },
    {
      "cell_type": "code",
      "execution_count": 19,
      "id": "9ed7b544",
      "metadata": {
        "id": "9ed7b544"
      },
      "outputs": [],
      "source": [
        "num_classes = 10\n",
        "train_labels = keras.utils.to_categorical(train_labels, num_classes)\n",
        "test_labels = keras.utils.to_categorical(test_labels, num_classes)"
      ]
    },
    {
      "cell_type": "code",
      "source": [
        "train_labels"
      ],
      "metadata": {
        "id": "thkB_4rwje0N",
        "outputId": "235c0e58-7b0b-4b81-8e16-424e938c5388",
        "colab": {
          "base_uri": "https://localhost:8080/"
        }
      },
      "id": "thkB_4rwje0N",
      "execution_count": 20,
      "outputs": [
        {
          "output_type": "execute_result",
          "data": {
            "text/plain": [
              "array([[0., 0., 0., ..., 0., 0., 0.],\n",
              "       [1., 0., 0., ..., 0., 0., 0.],\n",
              "       [0., 0., 0., ..., 0., 0., 0.],\n",
              "       ...,\n",
              "       [0., 0., 0., ..., 0., 0., 0.],\n",
              "       [0., 0., 0., ..., 0., 0., 0.],\n",
              "       [0., 0., 0., ..., 0., 1., 0.]])"
            ]
          },
          "metadata": {},
          "execution_count": 20
        }
      ]
    },
    {
      "cell_type": "code",
      "source": [
        "test_labels.shape"
      ],
      "metadata": {
        "id": "5Fb74krzjgrJ",
        "outputId": "0fd63ea9-3252-4158-c224-a277965c9b48",
        "colab": {
          "base_uri": "https://localhost:8080/"
        }
      },
      "id": "5Fb74krzjgrJ",
      "execution_count": 21,
      "outputs": [
        {
          "output_type": "execute_result",
          "data": {
            "text/plain": [
              "(10000, 10)"
            ]
          },
          "metadata": {},
          "execution_count": 21
        }
      ]
    },
    {
      "cell_type": "markdown",
      "id": "a54ab788",
      "metadata": {
        "id": "a54ab788"
      },
      "source": [
        "Now, `train_labels` and `test_labels` are matrices of shape (60000, 10) and (10000, 10), respectively."
      ]
    }
  ],
  "metadata": {
    "kernelspec": {
      "display_name": "Python 3 (ipykernel)",
      "language": "python",
      "name": "python3"
    },
    "language_info": {
      "codemirror_mode": {
        "name": "ipython",
        "version": 3
      },
      "file_extension": ".py",
      "mimetype": "text/x-python",
      "name": "python",
      "nbconvert_exporter": "python",
      "pygments_lexer": "ipython3",
      "version": "3.10.9"
    },
    "colab": {
      "provenance": []
    }
  },
  "nbformat": 4,
  "nbformat_minor": 5
}